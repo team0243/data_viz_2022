{
  "nbformat": 4,
  "nbformat_minor": 0,
  "metadata": {
    "colab": {
      "name": "Data_Structure.ipynb",
      "provenance": [],
      "authorship_tag": "ABX9TyOzi+cU3YM+DUMudT0MwQk6",
      "include_colab_link": true
    },
    "kernelspec": {
      "name": "python3",
      "display_name": "Python 3"
    },
    "language_info": {
      "name": "python"
    }
  },
  "cells": [
    {
      "cell_type": "markdown",
      "metadata": {
        "id": "view-in-github",
        "colab_type": "text"
      },
      "source": [
        "<a href=\"https://colab.research.google.com/github/team0243/data_viz_2022/blob/main/Data_Structure.ipynb\" target=\"_parent\"><img src=\"https://colab.research.google.com/assets/colab-badge.svg\" alt=\"Open In Colab\"/></a>"
      ]
    },
    {
      "cell_type": "markdown",
      "source": [
        "# Data Structure(โครงสร้างข้อมูล)\n",
        "การเก็บข้อมูลหลายๆตัวไว้ด้วยกันอย่างเป็นระเบียบ"
      ],
      "metadata": {
        "id": "xGjqyJAO6Ot-"
      }
    },
    {
      "cell_type": "markdown",
      "source": [
        "##```list()```\n",
        "-  เก็บอะไรก็ได้\n",
        "-  ลำดับในการเก็บมีความสำคัญ\n"
      ],
      "metadata": {
        "id": "l63eAltn6oew"
      }
    },
    {
      "cell_type": "code",
      "source": [
        "list_a = [1,2,3,4,5,6] # [ ] เรียกว่า square brackets"
      ],
      "metadata": {
        "id": "7mFyq4T46el9"
      },
      "execution_count": 1,
      "outputs": []
    },
    {
      "cell_type": "code",
      "source": [
        "list_a "
      ],
      "metadata": {
        "colab": {
          "base_uri": "https://localhost:8080/"
        },
        "id": "HXi7Ex5-7H52",
        "outputId": "e5342f2c-1148-4e79-d437-86a43a97366a"
      },
      "execution_count": 2,
      "outputs": [
        {
          "output_type": "execute_result",
          "data": {
            "text/plain": [
              "[1, 2, 3, 4, 5, 6]"
            ]
          },
          "metadata": {},
          "execution_count": 2
        }
      ]
    },
    {
      "cell_type": "code",
      "source": [
        "list_b = ['ab',2,3.14,list_a]"
      ],
      "metadata": {
        "id": "F3rejTQE7L1Y"
      },
      "execution_count": 3,
      "outputs": []
    },
    {
      "cell_type": "code",
      "source": [
        "list_b"
      ],
      "metadata": {
        "colab": {
          "base_uri": "https://localhost:8080/"
        },
        "id": "5fyzelvF7lVW",
        "outputId": "41072063-7237-4087-a75e-6a6df7af3f54"
      },
      "execution_count": 4,
      "outputs": [
        {
          "output_type": "execute_result",
          "data": {
            "text/plain": [
              "['ab', 2, 3.14, [1, 2, 3, 4, 5, 6]]"
            ]
          },
          "metadata": {},
          "execution_count": 4
        }
      ]
    },
    {
      "cell_type": "markdown",
      "source": [
        "## indexing การชี้สมาชิกใน list ด้วย เลขลำดับของ list"
      ],
      "metadata": {
        "id": "IzjgLJarLt_I"
      }
    },
    {
      "cell_type": "code",
      "source": [
        "list_a[3]"
      ],
      "metadata": {
        "colab": {
          "base_uri": "https://localhost:8080/"
        },
        "id": "X1vmliWD784x",
        "outputId": "de401a14-b171-4bd4-b7ac-0654e029aab3"
      },
      "execution_count": 5,
      "outputs": [
        {
          "output_type": "execute_result",
          "data": {
            "text/plain": [
              "4"
            ]
          },
          "metadata": {},
          "execution_count": 5
        }
      ]
    },
    {
      "cell_type": "code",
      "source": [
        "list_b[3]"
      ],
      "metadata": {
        "colab": {
          "base_uri": "https://localhost:8080/"
        },
        "id": "_VBtYG6b8Lny",
        "outputId": "a2ad2428-1729-455e-ff73-ce25cc518b89"
      },
      "execution_count": 6,
      "outputs": [
        {
          "output_type": "execute_result",
          "data": {
            "text/plain": [
              "[1, 2, 3, 4, 5, 6]"
            ]
          },
          "metadata": {},
          "execution_count": 6
        }
      ]
    },
    {
      "cell_type": "code",
      "source": [
        "list_b[3][4]\n"
      ],
      "metadata": {
        "colab": {
          "base_uri": "https://localhost:8080/"
        },
        "id": "mnQmxP_T8NkM",
        "outputId": "f01ea292-3fe8-4f80-eaa5-134962cfe6d2"
      },
      "execution_count": 7,
      "outputs": [
        {
          "output_type": "execute_result",
          "data": {
            "text/plain": [
              "5"
            ]
          },
          "metadata": {},
          "execution_count": 7
        }
      ]
    },
    {
      "cell_type": "code",
      "source": [
        "list_a[6] # errorเพราะ ลำดับไม่มีอยู่ในลิส"
      ],
      "metadata": {
        "colab": {
          "base_uri": "https://localhost:8080/",
          "height": 166
        },
        "id": "m5HQj2bL8hbx",
        "outputId": "d546ce21-e0b5-4ac5-d02e-da245470c8a7"
      },
      "execution_count": 8,
      "outputs": [
        {
          "output_type": "error",
          "ename": "IndexError",
          "evalue": "ignored",
          "traceback": [
            "\u001b[0;31m---------------------------------------------------------------------------\u001b[0m",
            "\u001b[0;31mIndexError\u001b[0m                                Traceback (most recent call last)",
            "\u001b[0;32m<ipython-input-8-1b2830b99b4f>\u001b[0m in \u001b[0;36m<module>\u001b[0;34m()\u001b[0m\n\u001b[0;32m----> 1\u001b[0;31m \u001b[0mlist_a\u001b[0m\u001b[0;34m[\u001b[0m\u001b[0;36m6\u001b[0m\u001b[0;34m]\u001b[0m \u001b[0;31m# errorเพราะ ลำดับไม่มีอยู่ในลิส\u001b[0m\u001b[0;34m\u001b[0m\u001b[0;34m\u001b[0m\u001b[0m\n\u001b[0m",
            "\u001b[0;31mIndexError\u001b[0m: list index out of range"
          ]
        }
      ]
    },
    {
      "cell_type": "code",
      "source": [
        "list_a[-1] # index -1 คือตัวสุดท้ายของ list"
      ],
      "metadata": {
        "id": "7qe3spJs8j9O",
        "colab": {
          "base_uri": "https://localhost:8080/"
        },
        "outputId": "2abcd90b-2a23-4951-eb7a-d8703f296a35"
      },
      "execution_count": 10,
      "outputs": [
        {
          "output_type": "execute_result",
          "data": {
            "text/plain": [
              "6"
            ]
          },
          "metadata": {},
          "execution_count": 10
        }
      ]
    },
    {
      "cell_type": "code",
      "source": [
        "list_a[-4]"
      ],
      "metadata": {
        "colab": {
          "base_uri": "https://localhost:8080/"
        },
        "id": "cPt78vrV97R4",
        "outputId": "b7432fa5-ef9a-447a-f8ce-60798c4bd2ec"
      },
      "execution_count": 11,
      "outputs": [
        {
          "output_type": "execute_result",
          "data": {
            "text/plain": [
              "3"
            ]
          },
          "metadata": {},
          "execution_count": 11
        }
      ]
    },
    {
      "cell_type": "markdown",
      "source": [
        "### การสร้าง list()\n"
      ],
      "metadata": {
        "id": "VGLL5xkN99oo"
      }
    },
    {
      "cell_type": "code",
      "source": [
        "list_x1 = [] # แบบที่ 1\n",
        "list_x2 = list() # แบบที่ 2"
      ],
      "metadata": {
        "id": "obfyuHXR-IxP"
      },
      "execution_count": 12,
      "outputs": []
    },
    {
      "cell_type": "code",
      "source": [
        "print(list_x1)\n",
        "print(list_x2)"
      ],
      "metadata": {
        "colab": {
          "base_uri": "https://localhost:8080/"
        },
        "id": "cvzXXspy-YX8",
        "outputId": "3fe57ae6-f0c1-46ce-f14c-6ea83d9f7b66"
      },
      "execution_count": 13,
      "outputs": [
        {
          "output_type": "stream",
          "name": "stdout",
          "text": [
            "[]\n",
            "[]\n"
          ]
        }
      ]
    },
    {
      "cell_type": "markdown",
      "source": [
        "### เพิ่มสมาชิกเข้าไปใน list ด้วย append()"
      ],
      "metadata": {
        "id": "A3Pt-JnF-4bW"
      }
    },
    {
      "cell_type": "code",
      "source": [
        "list_x1.append(2)"
      ],
      "metadata": {
        "id": "xK7eTmTd_Bxd"
      },
      "execution_count": 14,
      "outputs": []
    },
    {
      "cell_type": "code",
      "source": [
        "list_x1"
      ],
      "metadata": {
        "colab": {
          "base_uri": "https://localhost:8080/"
        },
        "id": "Nw4rRcc5_JEn",
        "outputId": "a6d54b30-39b1-486d-9075-6f2dd3df681e"
      },
      "execution_count": 15,
      "outputs": [
        {
          "output_type": "execute_result",
          "data": {
            "text/plain": [
              "[2]"
            ]
          },
          "metadata": {},
          "execution_count": 15
        }
      ]
    },
    {
      "cell_type": "code",
      "source": [
        "list_x1.append(4)\n",
        "print(list_x1)"
      ],
      "metadata": {
        "colab": {
          "base_uri": "https://localhost:8080/"
        },
        "id": "mqY9ZLrw_PaE",
        "outputId": "1cc9ceab-f39e-47a3-a930-4ba28e3b3d34"
      },
      "execution_count": 16,
      "outputs": [
        {
          "output_type": "stream",
          "name": "stdout",
          "text": [
            "[2, 4]\n"
          ]
        }
      ]
    },
    {
      "cell_type": "code",
      "source": [
        "list_x1[0]"
      ],
      "metadata": {
        "colab": {
          "base_uri": "https://localhost:8080/"
        },
        "id": "GutUfgu__XEA",
        "outputId": "f755b42d-f03b-4f23-f267-7333ccbf07ff"
      },
      "execution_count": 17,
      "outputs": [
        {
          "output_type": "execute_result",
          "data": {
            "text/plain": [
              "2"
            ]
          },
          "metadata": {},
          "execution_count": 17
        }
      ]
    },
    {
      "cell_type": "code",
      "source": [
        "list_x1[-1]"
      ],
      "metadata": {
        "colab": {
          "base_uri": "https://localhost:8080/"
        },
        "id": "tzZBrSrz_cTh",
        "outputId": "f1f83704-fed3-42c6-a226-be0ceb4c7bf0"
      },
      "execution_count": 18,
      "outputs": [
        {
          "output_type": "execute_result",
          "data": {
            "text/plain": [
              "4"
            ]
          },
          "metadata": {},
          "execution_count": 18
        }
      ]
    },
    {
      "cell_type": "code",
      "source": [
        "list_x2"
      ],
      "metadata": {
        "colab": {
          "base_uri": "https://localhost:8080/"
        },
        "id": "WJ0dHDgB_ejl",
        "outputId": "1261ac04-c64b-4a80-895b-5161824c2d54"
      },
      "execution_count": 19,
      "outputs": [
        {
          "output_type": "execute_result",
          "data": {
            "text/plain": [
              "[]"
            ]
          },
          "metadata": {},
          "execution_count": 19
        }
      ]
    },
    {
      "cell_type": "code",
      "source": [
        "list_x2.append(' ha ')"
      ],
      "metadata": {
        "id": "BIYjUhAR_tSm"
      },
      "execution_count": 20,
      "outputs": []
    },
    {
      "cell_type": "code",
      "source": [
        "list_x2"
      ],
      "metadata": {
        "colab": {
          "base_uri": "https://localhost:8080/"
        },
        "id": "BYIlSm4B_1NB",
        "outputId": "d8d3094a-b002-4cc3-f08a-0c0d22e6779b"
      },
      "execution_count": 21,
      "outputs": [
        {
          "output_type": "execute_result",
          "data": {
            "text/plain": [
              "[' ha ']"
            ]
          },
          "metadata": {},
          "execution_count": 21
        }
      ]
    },
    {
      "cell_type": "markdown",
      "source": [
        "### ลบสมาชิกจาก list"
      ],
      "metadata": {
        "id": "BbL1usQ1AN_-"
      }
    },
    {
      "cell_type": "code",
      "source": [
        "list_x1.append(' ha ') # จารรันซ้ำ"
      ],
      "metadata": {
        "id": "W4CdZHYEB2oU"
      },
      "execution_count": 22,
      "outputs": []
    },
    {
      "cell_type": "code",
      "source": [
        "list_x1 "
      ],
      "metadata": {
        "colab": {
          "base_uri": "https://localhost:8080/"
        },
        "id": "5O2d9cAJAz1J",
        "outputId": "11bdcd31-4793-43e7-81d2-53fdb9c79fff"
      },
      "execution_count": 23,
      "outputs": [
        {
          "output_type": "execute_result",
          "data": {
            "text/plain": [
              "[2, 4, ' ha ']"
            ]
          },
          "metadata": {},
          "execution_count": 23
        }
      ]
    },
    {
      "cell_type": "code",
      "source": [
        "list_x1.pop()"
      ],
      "metadata": {
        "colab": {
          "base_uri": "https://localhost:8080/",
          "height": 0
        },
        "id": "6z5_AVqUA3Ke",
        "outputId": "bc4c704b-5c2e-4786-f3e0-a0c55f31bd9b"
      },
      "execution_count": 24,
      "outputs": [
        {
          "output_type": "execute_result",
          "data": {
            "application/vnd.google.colaboratory.intrinsic+json": {
              "type": "string"
            },
            "text/plain": [
              "' ha '"
            ]
          },
          "metadata": {},
          "execution_count": 24
        }
      ]
    },
    {
      "cell_type": "code",
      "source": [
        "list_x1"
      ],
      "metadata": {
        "colab": {
          "base_uri": "https://localhost:8080/"
        },
        "id": "TxNVPKrAA5Ew",
        "outputId": "5aad7b0d-b818-4593-bdba-a2bd6617348a"
      },
      "execution_count": 25,
      "outputs": [
        {
          "output_type": "execute_result",
          "data": {
            "text/plain": [
              "[2, 4]"
            ]
          },
          "metadata": {},
          "execution_count": 25
        }
      ]
    },
    {
      "cell_type": "code",
      "source": [
        "list_x1.pop()\n",
        "print(list_x1)"
      ],
      "metadata": {
        "colab": {
          "base_uri": "https://localhost:8080/"
        },
        "id": "hXMCN-dJA7xm",
        "outputId": "453da008-6db3-4e4d-cbd0-791e08623c1c"
      },
      "execution_count": 26,
      "outputs": [
        {
          "output_type": "stream",
          "name": "stdout",
          "text": [
            "[2]\n"
          ]
        }
      ]
    },
    {
      "cell_type": "markdown",
      "source": [
        "### len() ตรวจสอบสมาชิกของ list"
      ],
      "metadata": {
        "id": "Bprny_8cCZp9"
      }
    },
    {
      "cell_type": "code",
      "source": [
        "print(list_b)\n",
        "print(len(list_b))"
      ],
      "metadata": {
        "colab": {
          "base_uri": "https://localhost:8080/"
        },
        "id": "lQ05s2NTCgSg",
        "outputId": "e50e9c55-c51e-414e-9e28-fd38c949bfba"
      },
      "execution_count": 27,
      "outputs": [
        {
          "output_type": "stream",
          "name": "stdout",
          "text": [
            "['ab', 2, 3.14, [1, 2, 3, 4, 5, 6]]\n",
            "4\n"
          ]
        }
      ]
    },
    {
      "cell_type": "code",
      "source": [
        "len(list_a)"
      ],
      "metadata": {
        "colab": {
          "base_uri": "https://localhost:8080/"
        },
        "id": "UyMlky9fCrKZ",
        "outputId": "754fb59e-5c7c-4778-e4a5-80b260dcd5bd"
      },
      "execution_count": 28,
      "outputs": [
        {
          "output_type": "execute_result",
          "data": {
            "text/plain": [
              "6"
            ]
          },
          "metadata": {},
          "execution_count": 28
        }
      ]
    },
    {
      "cell_type": "markdown",
      "source": [
        "### String is a list of characters"
      ],
      "metadata": {
        "id": "vn27qNudCw0m"
      }
    },
    {
      "cell_type": "code",
      "source": [
        "st_stat = 'Department of Statistics, Faculty of Science'"
      ],
      "metadata": {
        "id": "KOVbItsfC7Xj"
      },
      "execution_count": 29,
      "outputs": []
    },
    {
      "cell_type": "code",
      "source": [
        "st_stat [10]"
      ],
      "metadata": {
        "colab": {
          "base_uri": "https://localhost:8080/",
          "height": 0
        },
        "id": "nTgfRvmNDJwb",
        "outputId": "4682a9e4-7e14-43da-fccc-3d2f077cb25d"
      },
      "execution_count": 30,
      "outputs": [
        {
          "output_type": "execute_result",
          "data": {
            "application/vnd.google.colaboratory.intrinsic+json": {
              "type": "string"
            },
            "text/plain": [
              "' '"
            ]
          },
          "metadata": {},
          "execution_count": 30
        }
      ]
    },
    {
      "cell_type": "code",
      "source": [
        "len(st_stat) "
      ],
      "metadata": {
        "colab": {
          "base_uri": "https://localhost:8080/"
        },
        "id": "lgnFXUCIDMRT",
        "outputId": "93c8c911-3c08-458b-de02-c71c198231a3"
      },
      "execution_count": 31,
      "outputs": [
        {
          "output_type": "execute_result",
          "data": {
            "text/plain": [
              "44"
            ]
          },
          "metadata": {},
          "execution_count": 31
        }
      ]
    },
    {
      "cell_type": "markdown",
      "source": [
        "### List Slicing `:`\n",
        "`list [จุดเริ่มต้น : จุดสุดท้าย]`\\\n",
        "`list [จุดเริ่มต้น : จุดสุดท้าย : step ] `\n",
        "\n",
        "![image.png](data:image/png;base64,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)"
      ],
      "metadata": {
        "id": "KTYqpn71DZSw"
      }
    },
    {
      "cell_type": "code",
      "source": [
        "list_a"
      ],
      "metadata": {
        "colab": {
          "base_uri": "https://localhost:8080/"
        },
        "id": "QcvY0T3QEKj6",
        "outputId": "ded1ecc0-3b3d-45e7-e7b0-cffc02e09d6c"
      },
      "execution_count": 32,
      "outputs": [
        {
          "output_type": "execute_result",
          "data": {
            "text/plain": [
              "[1, 2, 3, 4, 5, 6]"
            ]
          },
          "metadata": {},
          "execution_count": 32
        }
      ]
    },
    {
      "cell_type": "code",
      "source": [
        "list_a[2]"
      ],
      "metadata": {
        "colab": {
          "base_uri": "https://localhost:8080/"
        },
        "id": "iNjA6zLuEMfG",
        "outputId": "84a41dcb-0372-4e06-806d-ed0cda2f6d0a"
      },
      "execution_count": 33,
      "outputs": [
        {
          "output_type": "execute_result",
          "data": {
            "text/plain": [
              "3"
            ]
          },
          "metadata": {},
          "execution_count": 33
        }
      ]
    },
    {
      "cell_type": "code",
      "source": [
        "list_a[-3:] # : colon"
      ],
      "metadata": {
        "colab": {
          "base_uri": "https://localhost:8080/"
        },
        "id": "GzquIrnXEO2K",
        "outputId": "529f0205-02db-42d2-a7c2-11662b8a45ef"
      },
      "execution_count": 34,
      "outputs": [
        {
          "output_type": "execute_result",
          "data": {
            "text/plain": [
              "[4, 5, 6]"
            ]
          },
          "metadata": {},
          "execution_count": 34
        }
      ]
    },
    {
      "cell_type": "code",
      "source": [
        "list_a[1:4] "
      ],
      "metadata": {
        "colab": {
          "base_uri": "https://localhost:8080/"
        },
        "id": "T9FmWP0WEZkD",
        "outputId": "7e6042ad-dc95-4797-b29a-8f51bc75a292"
      },
      "execution_count": 35,
      "outputs": [
        {
          "output_type": "execute_result",
          "data": {
            "text/plain": [
              "[2, 3, 4]"
            ]
          },
          "metadata": {},
          "execution_count": 35
        }
      ]
    },
    {
      "cell_type": "code",
      "source": [
        "list_a[:] "
      ],
      "metadata": {
        "id": "aEIuPGt4GF_E",
        "colab": {
          "base_uri": "https://localhost:8080/"
        },
        "outputId": "3392fba8-52e2-4fbc-bcf7-9a85fde00caf"
      },
      "execution_count": 36,
      "outputs": [
        {
          "output_type": "execute_result",
          "data": {
            "text/plain": [
              "[1, 2, 3, 4, 5, 6]"
            ]
          },
          "metadata": {},
          "execution_count": 36
        }
      ]
    },
    {
      "cell_type": "markdown",
      "source": [
        "### step"
      ],
      "metadata": {
        "id": "Vw45TAqQG_wy"
      }
    },
    {
      "cell_type": "code",
      "source": [
        "list_c =[1,2,3,4,5,6,7,8,9,10,11,12,13]"
      ],
      "metadata": {
        "id": "__TEYxzTHCHz"
      },
      "execution_count": 37,
      "outputs": []
    },
    {
      "cell_type": "code",
      "source": [
        "list_c[:10:]"
      ],
      "metadata": {
        "colab": {
          "base_uri": "https://localhost:8080/"
        },
        "id": "_f4_Mz5LHIJ6",
        "outputId": "1ed6a37d-811f-4013-a1ce-ebab768a2b14"
      },
      "execution_count": 38,
      "outputs": [
        {
          "output_type": "execute_result",
          "data": {
            "text/plain": [
              "[1, 2, 3, 4, 5, 6, 7, 8, 9, 10]"
            ]
          },
          "metadata": {},
          "execution_count": 38
        }
      ]
    },
    {
      "cell_type": "code",
      "source": [
        "list_c[:10:2] # กระโดด 2 ขั้น"
      ],
      "metadata": {
        "colab": {
          "base_uri": "https://localhost:8080/"
        },
        "id": "gSlIGb8lHM9Y",
        "outputId": "e79c3e22-29d9-41c4-c0e4-76df34346df1"
      },
      "execution_count": 39,
      "outputs": [
        {
          "output_type": "execute_result",
          "data": {
            "text/plain": [
              "[1, 3, 5, 7, 9]"
            ]
          },
          "metadata": {},
          "execution_count": 39
        }
      ]
    },
    {
      "cell_type": "code",
      "source": [
        "list_c[:-1:] # สเตป -1 วิ่งจาก หลังไปหน้า"
      ],
      "metadata": {
        "colab": {
          "base_uri": "https://localhost:8080/"
        },
        "id": "eU7BHI_jHUUe",
        "outputId": "0b4b6521-84b7-40ec-f6fe-2692b02e2073"
      },
      "execution_count": 40,
      "outputs": [
        {
          "output_type": "execute_result",
          "data": {
            "text/plain": [
              "[1, 2, 3, 4, 5, 6, 7, 8, 9, 10, 11, 12]"
            ]
          },
          "metadata": {},
          "execution_count": 40
        }
      ]
    },
    {
      "cell_type": "markdown",
      "source": [
        "### range()"
      ],
      "metadata": {
        "id": "HjnU4nrlH973"
      }
    },
    {
      "cell_type": "code",
      "source": [
        "range(21)"
      ],
      "metadata": {
        "colab": {
          "base_uri": "https://localhost:8080/"
        },
        "id": "EV2uOgCcIT_s",
        "outputId": "5632c424-a1a0-4102-c5c2-e0a739cd619b"
      },
      "execution_count": 41,
      "outputs": [
        {
          "output_type": "execute_result",
          "data": {
            "text/plain": [
              "range(0, 21)"
            ]
          },
          "metadata": {},
          "execution_count": 41
        }
      ]
    },
    {
      "cell_type": "code",
      "source": [
        "a = list(range(21))"
      ],
      "metadata": {
        "id": "BATaNIRmIJKB"
      },
      "execution_count": 42,
      "outputs": []
    },
    {
      "cell_type": "code",
      "source": [
        "a"
      ],
      "metadata": {
        "colab": {
          "base_uri": "https://localhost:8080/"
        },
        "id": "wWYQVMIaIXNS",
        "outputId": "bd6c01c7-b8ca-4983-f5a3-95a44fa9d7f9"
      },
      "execution_count": 43,
      "outputs": [
        {
          "output_type": "execute_result",
          "data": {
            "text/plain": [
              "[0, 1, 2, 3, 4, 5, 6, 7, 8, 9, 10, 11, 12, 13, 14, 15, 16, 17, 18, 19, 20]"
            ]
          },
          "metadata": {},
          "execution_count": 43
        }
      ]
    },
    {
      "cell_type": "code",
      "source": [
        "list(range(1,21))"
      ],
      "metadata": {
        "colab": {
          "base_uri": "https://localhost:8080/"
        },
        "id": "2u21clBcIXlF",
        "outputId": "4b18d240-8d4f-4e24-ae1b-22c7a6c82792"
      },
      "execution_count": 44,
      "outputs": [
        {
          "output_type": "execute_result",
          "data": {
            "text/plain": [
              "[1, 2, 3, 4, 5, 6, 7, 8, 9, 10, 11, 12, 13, 14, 15, 16, 17, 18, 19, 20]"
            ]
          },
          "metadata": {},
          "execution_count": 44
        }
      ]
    },
    {
      "cell_type": "markdown",
      "source": [
        "###HW2 คำนวณเวลาเป็นวินาทีของเวลาต่อไปนี้โดยใช้คำสั่ง split() ช่วย print ออกมาให้สวยงาม\n",
        "`      \n",
        "12:30:15\\\n",
        "13:41:07\\\n",
        " 09:11:50\\\n",
        "21:30:15\\\n",
        "03:10:15\n",
        "\n",
        "   `  "
      ],
      "metadata": {
        "id": "71TUfPKQJGPK"
      }
    },
    {
      "cell_type": "markdown",
      "source": [
        "ตัวอย่าง "
      ],
      "metadata": {
        "id": "NxOYfP5CMZti"
      }
    },
    {
      "cell_type": "code",
      "source": [
        "# 01:02:03\n",
        "\n",
        "a = (1*60*60) + (2*60) + 3\n",
        "print(f'01:02:03 มีค่าเท่ากับ {a} วินาที')"
      ],
      "metadata": {
        "id": "yRSct0eeJg02",
        "colab": {
          "base_uri": "https://localhost:8080/"
        },
        "outputId": "1772fd8f-3966-4b7e-809b-ef1a825a8a62"
      },
      "execution_count": 48,
      "outputs": [
        {
          "output_type": "stream",
          "name": "stdout",
          "text": [
            "01:02:03 มีค่าเท่ากับ 3723 วินาที\n"
          ]
        }
      ]
    },
    {
      "cell_type": "markdown",
      "source": [
        "ข้อ 1"
      ],
      "metadata": {
        "id": "g4MaT0TgMpNT"
      }
    },
    {
      "cell_type": "code",
      "source": [
        "q1 = '12:30:15'\n",
        "Q1 = q1.split(\":\")\n",
        "hours1 = int(Q1[0])*3600\n",
        "minutes1 = int(Q1[1])*60\n",
        "seconds1 = int(Q1[2])\n",
        "f1 =  hours1 + minutes1 + seconds1\n",
        "print(f' {q1} มีค่าเท่ากับ {f1} วินาที')"
      ],
      "metadata": {
        "colab": {
          "base_uri": "https://localhost:8080/"
        },
        "id": "CuWEnU1YMZOB",
        "outputId": "0da41b3c-a68c-4cff-b403-c796f5f580a5"
      },
      "execution_count": 49,
      "outputs": [
        {
          "output_type": "stream",
          "name": "stdout",
          "text": [
            " 12:30:15 มีค่าเท่ากับ 45015 วินาที\n"
          ]
        }
      ]
    },
    {
      "cell_type": "markdown",
      "source": [
        "ข้อ 2"
      ],
      "metadata": {
        "id": "foUdI4E8MrrB"
      }
    },
    {
      "cell_type": "code",
      "source": [
        "q2 = '13:41:07'\n",
        "Q2 = q2.split(\":\")\n",
        "hours2 = int(Q2[0])*3600\n",
        "minutes2 = int(Q2[1])*60\n",
        "seconds2 = int(Q2[2])\n",
        "f2 =  hours2 + minutes2 + seconds2\n",
        "print(f' {q2} มีค่าเท่ากับ {f2} วินาที')"
      ],
      "metadata": {
        "colab": {
          "base_uri": "https://localhost:8080/"
        },
        "id": "rvrCBbxeMsl4",
        "outputId": "abbf56b4-97eb-446b-fd0a-70bd899cebda"
      },
      "execution_count": 50,
      "outputs": [
        {
          "output_type": "stream",
          "name": "stdout",
          "text": [
            " 13:41:07 มีค่าเท่ากับ 49267 วินาที\n"
          ]
        }
      ]
    },
    {
      "cell_type": "markdown",
      "source": [
        "ข้อ 3"
      ],
      "metadata": {
        "id": "uh1g3ohBMvPX"
      }
    },
    {
      "cell_type": "code",
      "source": [
        "q3 = '09:11:50'\n",
        "Q3 = q3.split(\":\")\n",
        "hours3 = int(Q3[0])*3600\n",
        "minutes3 = int(Q3[1])*60\n",
        "seconds3 = int(Q3[2])\n",
        "f3 =  hours3 + minutes3 + seconds3\n",
        "print(f' {q3} มีค่าเท่ากับ {f3} วินาที')"
      ],
      "metadata": {
        "colab": {
          "base_uri": "https://localhost:8080/"
        },
        "id": "poxw4W1GMwKa",
        "outputId": "0e82e22c-5d30-44dc-a6cf-808b88eb76aa"
      },
      "execution_count": 51,
      "outputs": [
        {
          "output_type": "stream",
          "name": "stdout",
          "text": [
            " 09:11:50 มีค่าเท่ากับ 33110 วินาที\n"
          ]
        }
      ]
    },
    {
      "cell_type": "markdown",
      "source": [
        "ข้อ 4"
      ],
      "metadata": {
        "id": "mzl4p8r7MyHF"
      }
    },
    {
      "cell_type": "code",
      "source": [
        "q4 = '21:30:15'\n",
        "Q4 = q4.split(\":\")\n",
        "hours4 = int(Q4[0])*3600\n",
        "minutes4 = int(Q4[1])*60\n",
        "seconds4 = int(Q4[2])\n",
        "f4 =  hours4 + minutes4 + seconds4\n",
        "print(f' {q4} มีค่าเท่ากับ {f4} วินาที')"
      ],
      "metadata": {
        "colab": {
          "base_uri": "https://localhost:8080/"
        },
        "id": "S9g1MtcKMzyP",
        "outputId": "0863b529-ffa6-4a8e-b937-2b525747cf81"
      },
      "execution_count": 52,
      "outputs": [
        {
          "output_type": "stream",
          "name": "stdout",
          "text": [
            " 21:30:15 มีค่าเท่ากับ 77415 วินาที\n"
          ]
        }
      ]
    },
    {
      "cell_type": "markdown",
      "source": [
        "ข้อ 5"
      ],
      "metadata": {
        "id": "IdfY4klSM5qh"
      }
    },
    {
      "cell_type": "code",
      "source": [
        "q5 = '03:10:15'\n",
        "Q5 = q5.split(\":\")\n",
        "hours5 = int(Q5[0])*3600\n",
        "minutes5 = int(Q5[1])*60\n",
        "seconds5 = int(Q5[2])\n",
        "f5 =  hours5 + minutes5 + seconds5\n",
        "print(f' {q5} มีค่าเท่ากับ {f5} วินาที')"
      ],
      "metadata": {
        "colab": {
          "base_uri": "https://localhost:8080/"
        },
        "id": "-XaHXiQ4M2a0",
        "outputId": "15761f30-7d72-4a4f-9e4b-7f034d2fa9b6"
      },
      "execution_count": 54,
      "outputs": [
        {
          "output_type": "stream",
          "name": "stdout",
          "text": [
            " 03:10:15 มีค่าเท่ากับ 11415 วินาที\n"
          ]
        }
      ]
    }
  ]
}