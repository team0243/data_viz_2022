{
  "nbformat": 4,
  "nbformat_minor": 0,
  "metadata": {
    "colab": {
      "name": "Python101.ipynb",
      "provenance": [],
      "authorship_tag": "ABX9TyOjAbXyvvfktBQcj6bZxtjp",
      "include_colab_link": true
    },
    "kernelspec": {
      "name": "python3",
      "display_name": "Python 3"
    },
    "language_info": {
      "name": "python"
    }
  },
  "cells": [
    {
      "cell_type": "markdown",
      "metadata": {
        "id": "view-in-github",
        "colab_type": "text"
      },
      "source": [
        "<a href=\"https://colab.research.google.com/github/team0243/data_viz_2022/blob/main/Python101.ipynb\" target=\"_parent\"><img src=\"https://colab.research.google.com/assets/colab-badge.svg\" alt=\"Open In Colab\"/></a>"
      ]
    },
    {
      "cell_type": "markdown",
      "source": [
        "ข้อความในช่อง text เป็นภาษา Markdown(https://www.markdownguide.org/cheat-sheet/)"
      ],
      "metadata": {
        "id": "WE6BKvB2K5vD"
      }
    },
    {
      "cell_type": "markdown",
      "source": [
        "#การจัดการข้อความในการแสดงผล(Print)"
      ],
      "metadata": {
        "id": "nd698qxNK-gZ"
      }
    },
    {
      "cell_type": "markdown",
      "source": [
        "string"
      ],
      "metadata": {
        "id": "ASsWzG5bLHRy"
      }
    },
    {
      "cell_type": "markdown",
      "source": [
        "test heading 3"
      ],
      "metadata": {
        "id": "JRWFWt-vLTex"
      }
    },
    {
      "cell_type": "markdown",
      "source": [
        "print(ข้อความ)"
      ],
      "metadata": {
        "id": "xSBNPcdDLRb6"
      }
    },
    {
      "cell_type": "code",
      "source": [
        "' สถิติ ' # ' quote"
      ],
      "metadata": {
        "colab": {
          "base_uri": "https://localhost:8080/",
          "height": 34
        },
        "id": "ZwL9230uLiTw",
        "outputId": "c479d3a9-44be-43b0-c62f-86ced3cd7be6"
      },
      "execution_count": null,
      "outputs": [
        {
          "output_type": "execute_result",
          "data": {
            "application/vnd.google.colaboratory.intrinsic+json": {
              "type": "string"
            },
            "text/plain": [
              "' สถิติ '"
            ]
          },
          "metadata": {},
          "execution_count": 2
        }
      ]
    },
    {
      "cell_type": "code",
      "source": [
        "'''สถิติ''' # ''quote"
      ],
      "metadata": {
        "colab": {
          "base_uri": "https://localhost:8080/",
          "height": 34
        },
        "id": "h0_CtSfcLrbW",
        "outputId": "39ae7472-56ab-44e9-f01c-3b5d990bf8aa"
      },
      "execution_count": null,
      "outputs": [
        {
          "output_type": "execute_result",
          "data": {
            "application/vnd.google.colaboratory.intrinsic+json": {
              "type": "string"
            },
            "text/plain": [
              "'สถิติ'"
            ]
          },
          "metadata": {},
          "execution_count": 3
        }
      ]
    },
    {
      "cell_type": "code",
      "source": [
        "1+3"
      ],
      "metadata": {
        "colab": {
          "base_uri": "https://localhost:8080/"
        },
        "id": "HU1c4UJSL2Om",
        "outputId": "6545ad4c-6a4d-4f4e-decf-af938c7c12cb"
      },
      "execution_count": null,
      "outputs": [
        {
          "output_type": "execute_result",
          "data": {
            "text/plain": [
              "4"
            ]
          },
          "metadata": {},
          "execution_count": 4
        }
      ]
    },
    {
      "cell_type": "code",
      "source": [
        "'1'+'3' #รวมกันเป็นข้อความ String ไม่ใช่ตัวเลข"
      ],
      "metadata": {
        "colab": {
          "base_uri": "https://localhost:8080/",
          "height": 34
        },
        "id": "WwOJIKhhMrnM",
        "outputId": "88ada026-2731-4b65-ece2-948ece771bb7"
      },
      "execution_count": null,
      "outputs": [
        {
          "output_type": "execute_result",
          "data": {
            "application/vnd.google.colaboratory.intrinsic+json": {
              "type": "string"
            },
            "text/plain": [
              "'13'"
            ]
          },
          "metadata": {},
          "execution_count": 5
        }
      ]
    },
    {
      "cell_type": "code",
      "source": [
        "1-3"
      ],
      "metadata": {
        "colab": {
          "base_uri": "https://localhost:8080/"
        },
        "id": "6SzLDjCNM_bK",
        "outputId": "6ab3df56-8edb-47dc-8568-563a7e61d6e3"
      },
      "execution_count": null,
      "outputs": [
        {
          "output_type": "execute_result",
          "data": {
            "text/plain": [
              "-2"
            ]
          },
          "metadata": {},
          "execution_count": 6
        }
      ]
    },
    {
      "cell_type": "code",
      "source": [
        "'1' - '3'  # - string ทำไม่ได้"
      ],
      "metadata": {
        "colab": {
          "base_uri": "https://localhost:8080/",
          "height": 166
        },
        "id": "Cipa-jTXNBHy",
        "outputId": "e6c88281-8298-404a-9c0c-6895c81380a0"
      },
      "execution_count": null,
      "outputs": [
        {
          "output_type": "error",
          "ename": "TypeError",
          "evalue": "ignored",
          "traceback": [
            "\u001b[0;31m---------------------------------------------------------------------------\u001b[0m",
            "\u001b[0;31mTypeError\u001b[0m                                 Traceback (most recent call last)",
            "\u001b[0;32m<ipython-input-7-c900c9f04a3e>\u001b[0m in \u001b[0;36m<module>\u001b[0;34m()\u001b[0m\n\u001b[0;32m----> 1\u001b[0;31m \u001b[0;34m'1'\u001b[0m \u001b[0;34m-\u001b[0m \u001b[0;34m'3'\u001b[0m  \u001b[0;31m# - string ทำไม่ได้\u001b[0m\u001b[0;34m\u001b[0m\u001b[0;34m\u001b[0m\u001b[0m\n\u001b[0m",
            "\u001b[0;31mTypeError\u001b[0m: unsupported operand type(s) for -: 'str' and 'str'"
          ]
        }
      ]
    },
    {
      "cell_type": "markdown",
      "source": [
        "##print(ข้อความ)\n",
        "**print(ข้อความ)**\n",
        "\n",
        "\n"
      ],
      "metadata": {
        "id": "gQbU7ztfNS4Y"
      }
    },
    {
      "cell_type": "code",
      "source": [
        "print('ข้อความที่อยากให้ print')"
      ],
      "metadata": {
        "colab": {
          "base_uri": "https://localhost:8080/"
        },
        "id": "TSbwztp8NcCW",
        "outputId": "e596b00e-7969-468b-91c4-49cb9381f37a"
      },
      "execution_count": null,
      "outputs": [
        {
          "output_type": "stream",
          "name": "stdout",
          "text": [
            "ข้อความที่อยากให้ print\n"
          ]
        }
      ]
    },
    {
      "cell_type": "markdown",
      "source": [
        "#ตัวแปร(Variable)"
      ],
      "metadata": {
        "id": "yfQFBWBMN-st"
      }
    },
    {
      "cell_type": "code",
      "source": [
        "vartest1 = 1+4"
      ],
      "metadata": {
        "id": "TCWJ-sj5OFV0"
      },
      "execution_count": null,
      "outputs": []
    },
    {
      "cell_type": "code",
      "source": [
        "vartest1 "
      ],
      "metadata": {
        "colab": {
          "base_uri": "https://localhost:8080/"
        },
        "id": "iWtYWjH1OJt3",
        "outputId": "64cb269f-e3d5-41dd-9fcd-832e9662ff3f"
      },
      "execution_count": null,
      "outputs": [
        {
          "output_type": "execute_result",
          "data": {
            "text/plain": [
              "5"
            ]
          },
          "metadata": {},
          "execution_count": 11
        }
      ]
    },
    {
      "cell_type": "code",
      "source": [
        "print(vartest1)"
      ],
      "metadata": {
        "colab": {
          "base_uri": "https://localhost:8080/"
        },
        "id": "SAiCfSbWOODS",
        "outputId": "2ee80d46-0d12-49d5-992e-cdb9f54d65ff"
      },
      "execution_count": null,
      "outputs": [
        {
          "output_type": "stream",
          "name": "stdout",
          "text": [
            "5\n"
          ]
        }
      ]
    },
    {
      "cell_type": "code",
      "source": [
        "vartest2 = '4'+'8'"
      ],
      "metadata": {
        "id": "Pd-FLzN7OQpm"
      },
      "execution_count": null,
      "outputs": []
    },
    {
      "cell_type": "code",
      "source": [
        "vartest2"
      ],
      "metadata": {
        "colab": {
          "base_uri": "https://localhost:8080/",
          "height": 34
        },
        "id": "IMuKdtBaOXk5",
        "outputId": "e0f04024-5df7-4ec4-ccd6-3bc407b9efeb"
      },
      "execution_count": null,
      "outputs": [
        {
          "output_type": "execute_result",
          "data": {
            "application/vnd.google.colaboratory.intrinsic+json": {
              "type": "string"
            },
            "text/plain": [
              "'48'"
            ]
          },
          "metadata": {},
          "execution_count": 14
        }
      ]
    },
    {
      "cell_type": "code",
      "source": [
        "print(vartest2)"
      ],
      "metadata": {
        "colab": {
          "base_uri": "https://localhost:8080/"
        },
        "id": "0rKRcnJZOcoB",
        "outputId": "ee75d3c5-4c6e-4c6d-a3fc-8a76b40732c9"
      },
      "execution_count": null,
      "outputs": [
        {
          "output_type": "stream",
          "name": "stdout",
          "text": [
            "48\n"
          ]
        }
      ]
    },
    {
      "cell_type": "markdown",
      "source": [
        "## ข้อกำหนดการตั้งชื่อตัวแปร\n",
        "1. ตั้งให้สื่อความหมาย\n",
        "2. ต้องเป็นภาษาอังกฤษ\n",
        "3. ใช้ตัวเลขผสมตัวหนังสือได้ แต่ห้ามเอาตัวเลขขึ้นก่อน\n",
        "4. ห้ามมีเว้นนวรรคในชื่อตัวแปร\n",
        "5. ตัวใหญ่ตัวเล็ก มีค่าไม่เท่ากัน\n"
      ],
      "metadata": {
        "id": "SEhTsGlZPATF"
      }
    },
    {
      "cell_type": "code",
      "source": [
        "variable a = 1 # ห้ามมีเว้นวรรค"
      ],
      "metadata": {
        "colab": {
          "base_uri": "https://localhost:8080/",
          "height": 131
        },
        "id": "uR_EyUDfQVSN",
        "outputId": "340ce3cb-5a25-429e-c7b2-f3565509c15a"
      },
      "execution_count": null,
      "outputs": [
        {
          "output_type": "error",
          "ename": "SyntaxError",
          "evalue": "ignored",
          "traceback": [
            "\u001b[0;36m  File \u001b[0;32m\"<ipython-input-17-f67412df0c27>\"\u001b[0;36m, line \u001b[0;32m1\u001b[0m\n\u001b[0;31m    variable a = 1 # ห้ามมีเว้นวรรค\u001b[0m\n\u001b[0m             ^\u001b[0m\n\u001b[0;31mSyntaxError\u001b[0m\u001b[0;31m:\u001b[0m invalid syntax\n"
          ]
        }
      ]
    },
    {
      "cell_type": "markdown",
      "source": [
        "## Advanced Printing\n",
        "เราสามารถ print ตัวแปรร่วมกับข้อความได้\n",
        "\n",
        "print(f'ข้อความ{code}')\n",
        "\n",
        "\n"
      ],
      "metadata": {
        "id": "_qWc2n1MQgkx"
      }
    },
    {
      "cell_type": "code",
      "source": [
        "print(f'หนึ่ง บวก สอง (1+2) เท่ากับ สาม ({1+2})')  # { } Curly Brackets"
      ],
      "metadata": {
        "colab": {
          "base_uri": "https://localhost:8080/"
        },
        "id": "YXse0Nm9RW3L",
        "outputId": "fff8a179-84b3-407c-a03d-975dac04ca4c"
      },
      "execution_count": null,
      "outputs": [
        {
          "output_type": "stream",
          "name": "stdout",
          "text": [
            "หนึ่ง บวก สอง (1+2) เท่ากับ สาม (3)\n"
          ]
        }
      ]
    },
    {
      "cell_type": "code",
      "source": [
        "a= 1\n",
        "b = 2\n",
        "print(f'หนึ่ง บวก สอง ({a}+{b}) เท่ากับ สาม ({a+b})')"
      ],
      "metadata": {
        "colab": {
          "base_uri": "https://localhost:8080/"
        },
        "id": "myHavrZFR8ol",
        "outputId": "6fac2cf0-2906-40c8-8568-8424b1273602"
      },
      "execution_count": null,
      "outputs": [
        {
          "output_type": "stream",
          "name": "stdout",
          "text": [
            "หนึ่ง บวก สอง (1+2) เท่ากับ สาม (3)\n"
          ]
        }
      ]
    },
    {
      "cell_type": "code",
      "source": [
        "a = 35\n",
        "b = 13"
      ],
      "metadata": {
        "id": "Od2c6PmKSVIQ"
      },
      "execution_count": null,
      "outputs": []
    },
    {
      "cell_type": "code",
      "source": [
        "print(f'{a}+{b} = {a+b}')"
      ],
      "metadata": {
        "colab": {
          "base_uri": "https://localhost:8080/"
        },
        "id": "kniJrPsPSZtN",
        "outputId": "6f0d112a-d08f-4a95-ac17-83651ec849b4"
      },
      "execution_count": null,
      "outputs": [
        {
          "output_type": "stream",
          "name": "stdout",
          "text": [
            "35+13 = 48\n"
          ]
        }
      ]
    },
    {
      "cell_type": "markdown",
      "source": [
        "# ชนิดของตัวแปร"
      ],
      "metadata": {
        "id": "HjtUDscAVEBt"
      }
    },
    {
      "cell_type": "markdown",
      "source": [
        "## char(acter) (ตัวอักษร)"
      ],
      "metadata": {
        "id": "kCsOfanvVIK_"
      }
    },
    {
      "cell_type": "code",
      "source": [
        "c = 'Fond&'"
      ],
      "metadata": {
        "id": "tjn2vs5ZVQyX"
      },
      "execution_count": null,
      "outputs": []
    },
    {
      "cell_type": "code",
      "source": [
        "d = 'Kaning<3'"
      ],
      "metadata": {
        "id": "CL7OzA1rVg6T"
      },
      "execution_count": null,
      "outputs": []
    },
    {
      "cell_type": "code",
      "source": [
        "c+d"
      ],
      "metadata": {
        "colab": {
          "base_uri": "https://localhost:8080/",
          "height": 34
        },
        "id": "dYlajGM3Vsju",
        "outputId": "8f3e17ae-d423-4b75-bc7f-f76841a0e09a"
      },
      "execution_count": null,
      "outputs": [
        {
          "output_type": "execute_result",
          "data": {
            "application/vnd.google.colaboratory.intrinsic+json": {
              "type": "string"
            },
            "text/plain": [
              "'Fond&Kaning<3'"
            ]
          },
          "metadata": {},
          "execution_count": 24
        }
      ]
    },
    {
      "cell_type": "code",
      "source": [
        "print(f'a={c} b={d}, then {c}+{d} = {c+d}')"
      ],
      "metadata": {
        "colab": {
          "base_uri": "https://localhost:8080/"
        },
        "id": "kVq6A3YvVlgx",
        "outputId": "c8996aa4-1db3-4bad-f1b1-aaf103694e11"
      },
      "execution_count": null,
      "outputs": [
        {
          "output_type": "stream",
          "name": "stdout",
          "text": [
            "a=Fond& b=Kaning<3, then Fond&+Kaning<3 = Fond&Kaning<3\n"
          ]
        }
      ]
    },
    {
      "cell_type": "code",
      "source": [
        "A = 'd'"
      ],
      "metadata": {
        "id": "XA7bpRNbWZ9W"
      },
      "execution_count": null,
      "outputs": []
    },
    {
      "cell_type": "code",
      "source": [
        "B = 'j'"
      ],
      "metadata": {
        "id": "3QRCpOsiW77T"
      },
      "execution_count": null,
      "outputs": []
    },
    {
      "cell_type": "code",
      "source": [
        "C ='sr'"
      ],
      "metadata": {
        "id": "ACbWPz94XCu6"
      },
      "execution_count": null,
      "outputs": []
    },
    {
      "cell_type": "code",
      "source": [
        "print(A+B+C)"
      ],
      "metadata": {
        "colab": {
          "base_uri": "https://localhost:8080/"
        },
        "id": "4uvT1gSHW-YH",
        "outputId": "02970797-7675-46aa-c06c-3ada9775b774"
      },
      "execution_count": null,
      "outputs": [
        {
          "output_type": "stream",
          "name": "stdout",
          "text": [
            "djsr\n"
          ]
        }
      ]
    },
    {
      "cell_type": "markdown",
      "source": [
        "## int(eger) (จำนวนเต็ม)"
      ],
      "metadata": {
        "id": "cj6KWjlNXWq-"
      }
    },
    {
      "cell_type": "code",
      "source": [
        "int_a = 7\n",
        "int_b = 2"
      ],
      "metadata": {
        "id": "XM789AU7XfSl"
      },
      "execution_count": null,
      "outputs": []
    },
    {
      "cell_type": "code",
      "source": [
        "int_c = int_a + int_b\n",
        "print(int_c)"
      ],
      "metadata": {
        "colab": {
          "base_uri": "https://localhost:8080/"
        },
        "id": "usaeP2fbXlrN",
        "outputId": "c05eb217-438d-40ea-9c7c-3f24097a4a87"
      },
      "execution_count": null,
      "outputs": [
        {
          "output_type": "stream",
          "name": "stdout",
          "text": [
            "9\n"
          ]
        }
      ]
    },
    {
      "cell_type": "markdown",
      "source": [
        "## Float(จำนวนจริง ทศนิยม)"
      ],
      "metadata": {
        "id": "1tm5VVrfXwQA"
      }
    },
    {
      "cell_type": "code",
      "source": [
        "fl_a =6.\n",
        "fl_b = 42.48"
      ],
      "metadata": {
        "id": "c9KvqOHaX2_V"
      },
      "execution_count": null,
      "outputs": []
    },
    {
      "cell_type": "code",
      "source": [
        "fl_a # โชว์เป็น Float"
      ],
      "metadata": {
        "colab": {
          "base_uri": "https://localhost:8080/"
        },
        "id": "yjNoSuLIYlti",
        "outputId": "fad1fb76-12da-437f-f213-f46861df35a5"
      },
      "execution_count": null,
      "outputs": [
        {
          "output_type": "execute_result",
          "data": {
            "text/plain": [
              "6.0"
            ]
          },
          "metadata": {},
          "execution_count": 33
        }
      ]
    },
    {
      "cell_type": "code",
      "source": [
        "print(fl_a+fl_b)"
      ],
      "metadata": {
        "colab": {
          "base_uri": "https://localhost:8080/"
        },
        "id": "_FPQgqShYORF",
        "outputId": "94677498-4e39-45ae-b4bb-9fd1015a26e9"
      },
      "execution_count": null,
      "outputs": [
        {
          "output_type": "stream",
          "name": "stdout",
          "text": [
            "48.48\n"
          ]
        }
      ]
    },
    {
      "cell_type": "markdown",
      "source": [
        "## Boolean(ตัวแปรที่มีค่า true หรือ false)"
      ],
      "metadata": {
        "id": "tlmaJD-HZUOV"
      }
    },
    {
      "cell_type": "code",
      "source": [
        "b_T = True"
      ],
      "metadata": {
        "id": "XS5XNzhRZpVL"
      },
      "execution_count": null,
      "outputs": []
    },
    {
      "cell_type": "code",
      "source": [
        "b_F = False "
      ],
      "metadata": {
        "id": "pQ1BtTDaZ1Rt"
      },
      "execution_count": null,
      "outputs": []
    },
    {
      "cell_type": "markdown",
      "source": [
        "## Complex Number(จำนวนจริง จำนวนเชิงซ้อน)"
      ],
      "metadata": {
        "id": "lBUCbOfQax7X"
      }
    },
    {
      "cell_type": "code",
      "source": [
        "x = 1+2j"
      ],
      "metadata": {
        "id": "0gfQHFM2Z5gI"
      },
      "execution_count": null,
      "outputs": []
    },
    {
      "cell_type": "markdown",
      "source": [
        "### เราสามารถตรวจสอบชนิดของตัวแปรด้วยคำสั่ง type()"
      ],
      "metadata": {
        "id": "mfbJmErBblOc"
      }
    },
    {
      "cell_type": "code",
      "source": [
        "type(x)"
      ],
      "metadata": {
        "colab": {
          "base_uri": "https://localhost:8080/"
        },
        "id": "k7aP7ZCNas2V",
        "outputId": "e9124cbd-b919-4065-c82b-5d95f5705548"
      },
      "execution_count": null,
      "outputs": [
        {
          "output_type": "execute_result",
          "data": {
            "text/plain": [
              "complex"
            ]
          },
          "metadata": {},
          "execution_count": 38
        }
      ]
    },
    {
      "cell_type": "code",
      "source": [
        "print(f'ตัวแปร x ค่าคือ  {x} ชนิด  {type(x)}' )"
      ],
      "metadata": {
        "colab": {
          "base_uri": "https://localhost:8080/"
        },
        "id": "iqsdoVqOb0ei",
        "outputId": "e6382d53-6d05-4b9d-e13a-7f4abed7d726"
      },
      "execution_count": null,
      "outputs": [
        {
          "output_type": "stream",
          "name": "stdout",
          "text": [
            "ตัวแปร x ค่าคือ  (1+2j) ชนิด  <class 'complex'>\n"
          ]
        }
      ]
    },
    {
      "cell_type": "code",
      "source": [
        "print(f'ตัวแปร A ค่าคือ  {A} ชนิด  {type(A)}' )"
      ],
      "metadata": {
        "colab": {
          "base_uri": "https://localhost:8080/"
        },
        "id": "sCJZcfCecIXL",
        "outputId": "f59482f1-9410-4e3b-c1e0-2bc5261dd926"
      },
      "execution_count": null,
      "outputs": [
        {
          "output_type": "stream",
          "name": "stdout",
          "text": [
            "ตัวแปร A ค่าคือ  d ชนิด  <class 'str'>\n"
          ]
        }
      ]
    },
    {
      "cell_type": "code",
      "source": [
        "print(f'ตัวแปร c ค่าคือ  {a} ชนิด  {type(c)}' )"
      ],
      "metadata": {
        "colab": {
          "base_uri": "https://localhost:8080/"
        },
        "id": "g54MUKalcind",
        "outputId": "9aa35e12-c230-4a8e-b117-608612284340"
      },
      "execution_count": null,
      "outputs": [
        {
          "output_type": "stream",
          "name": "stdout",
          "text": [
            "ตัวแปร c ค่าคือ  35 ชนิด  <class 'str'>\n"
          ]
        }
      ]
    },
    {
      "cell_type": "markdown",
      "source": [
        "## การแปลงชนิดของตัวแปร(Variable Casting)"
      ],
      "metadata": {
        "id": "XYq8XUjydZIw"
      }
    },
    {
      "cell_type": "code",
      "source": [
        "print(f'int_a = {int_a} int_b = {int_b} fl_a = {fl_a} fl_b ={fl_b}' )"
      ],
      "metadata": {
        "colab": {
          "base_uri": "https://localhost:8080/"
        },
        "id": "YbfTE_79dpoY",
        "outputId": "88b54e57-ceb5-404d-b408-21286388390b"
      },
      "execution_count": null,
      "outputs": [
        {
          "output_type": "stream",
          "name": "stdout",
          "text": [
            "int_a = 7 int_b = 2 fl_a = 6.0 fl_b =42.48\n"
          ]
        }
      ]
    },
    {
      "cell_type": "code",
      "source": [
        "str_a = '6'\n",
        "str_b = '2'"
      ],
      "metadata": {
        "id": "B0pHgiBjeB-4"
      },
      "execution_count": null,
      "outputs": []
    },
    {
      "cell_type": "code",
      "source": [
        "str_a2int = int(str_a)\n",
        "print(f'ตัวแปร str_a2int ค่าคือ {str_a2int} ชนิด  {type(str_a2int)}')"
      ],
      "metadata": {
        "colab": {
          "base_uri": "https://localhost:8080/"
        },
        "id": "ks5znziPeLof",
        "outputId": "c90972b3-da56-421f-cccf-76bc937b624c"
      },
      "execution_count": null,
      "outputs": [
        {
          "output_type": "stream",
          "name": "stdout",
          "text": [
            "ตัวแปร str_a2int ค่าคือ 6 ชนิด  <class 'int'>\n"
          ]
        }
      ]
    },
    {
      "cell_type": "code",
      "source": [
        "str_a2int + int_a"
      ],
      "metadata": {
        "id": "4Zv1mvHZfrS6",
        "outputId": "72f150ba-8c19-488d-aad0-b93ce9f023b8",
        "colab": {
          "base_uri": "https://localhost:8080/"
        }
      },
      "execution_count": null,
      "outputs": [
        {
          "output_type": "execute_result",
          "data": {
            "text/plain": [
              "13"
            ]
          },
          "metadata": {},
          "execution_count": 53
        }
      ]
    },
    {
      "cell_type": "code",
      "source": [
        "int(fl_b)"
      ],
      "metadata": {
        "id": "3Ee059TLgW6G",
        "outputId": "8d9404ef-2da4-42f2-c065-b44b4dee3a72",
        "colab": {
          "base_uri": "https://localhost:8080/"
        }
      },
      "execution_count": null,
      "outputs": [
        {
          "output_type": "execute_result",
          "data": {
            "text/plain": [
              "42"
            ]
          },
          "metadata": {},
          "execution_count": 55
        }
      ]
    },
    {
      "cell_type": "code",
      "source": [
        "float(int_a)"
      ],
      "metadata": {
        "id": "p2dKe4idgW8z",
        "outputId": "7ad461cb-2c10-42c8-8d97-0f261b11192b",
        "colab": {
          "base_uri": "https://localhost:8080/"
        }
      },
      "execution_count": null,
      "outputs": [
        {
          "output_type": "execute_result",
          "data": {
            "text/plain": [
              "7.0"
            ]
          },
          "metadata": {},
          "execution_count": 56
        }
      ]
    },
    {
      "cell_type": "code",
      "source": [
        "str(fl_b)"
      ],
      "metadata": {
        "id": "IBmX3oMjgW_U",
        "outputId": "8eb35747-b00d-44cb-b0b9-77f1d4b8db82",
        "colab": {
          "base_uri": "https://localhost:8080/",
          "height": 34
        }
      },
      "execution_count": null,
      "outputs": [
        {
          "output_type": "execute_result",
          "data": {
            "application/vnd.google.colaboratory.intrinsic+json": {
              "type": "string"
            },
            "text/plain": [
              "'42.48'"
            ]
          },
          "metadata": {},
          "execution_count": 57
        }
      ]
    },
    {
      "cell_type": "code",
      "source": [
        ""
      ],
      "metadata": {
        "id": "Sg3GS4TLgXCe"
      },
      "execution_count": null,
      "outputs": []
    },
    {
      "cell_type": "markdown",
      "source": [
        "# Operetion เอาตัวแปรทั้งสองมาทำบางสิ่ง \n"
      ],
      "metadata": {
        "id": "VQ-Y1IokgXw_"
      }
    },
    {
      "cell_type": "markdown",
      "source": [
        "### Operetors (บวก(+),ลบ(-),คูณ(*)หาร(/),Modulo(%),and(&),or(|))"
      ],
      "metadata": {
        "id": "P3TtdzQBgX4V"
      }
    },
    {
      "cell_type": "code",
      "source": [
        "fl_a + int_b"
      ],
      "metadata": {
        "colab": {
          "base_uri": "https://localhost:8080/"
        },
        "id": "1ppyxdm0hQgR",
        "outputId": "0c0aee5e-6bed-432d-95c2-df4d8521bc64"
      },
      "execution_count": null,
      "outputs": [
        {
          "output_type": "execute_result",
          "data": {
            "text/plain": [
              "8.0"
            ]
          },
          "metadata": {},
          "execution_count": 45
        }
      ]
    },
    {
      "cell_type": "code",
      "source": [
        "9%2 # modulo % เป็นการหารเอาเศษ "
      ],
      "metadata": {
        "colab": {
          "base_uri": "https://localhost:8080/"
        },
        "id": "4Ao4hMyThUzk",
        "outputId": "d3a49da0-5ef7-4f91-87e0-10727653f671"
      },
      "execution_count": null,
      "outputs": [
        {
          "output_type": "execute_result",
          "data": {
            "text/plain": [
              "1"
            ]
          },
          "metadata": {},
          "execution_count": 46
        }
      ]
    },
    {
      "cell_type": "code",
      "source": [
        "100%2"
      ],
      "metadata": {
        "colab": {
          "base_uri": "https://localhost:8080/"
        },
        "id": "9nvphRfKhYzy",
        "outputId": "203fdf55-67a0-4034-c4f1-33876ad419be"
      },
      "execution_count": null,
      "outputs": [
        {
          "output_type": "execute_result",
          "data": {
            "text/plain": [
              "0"
            ]
          },
          "metadata": {},
          "execution_count": 47
        }
      ]
    },
    {
      "cell_type": "code",
      "source": [
        "int_a/int_b"
      ],
      "metadata": {
        "colab": {
          "base_uri": "https://localhost:8080/"
        },
        "id": "3olaAZKcha1I",
        "outputId": "ef34a295-51bd-4b67-f341-d04848f3e26d"
      },
      "execution_count": null,
      "outputs": [
        {
          "output_type": "execute_result",
          "data": {
            "text/plain": [
              "3.5"
            ]
          },
          "metadata": {},
          "execution_count": 48
        }
      ]
    },
    {
      "cell_type": "code",
      "source": [
        "int(int_a/int_b)"
      ],
      "metadata": {
        "colab": {
          "base_uri": "https://localhost:8080/"
        },
        "id": "mdmEK0sfh5qd",
        "outputId": "d6b6fa06-2b8a-4a6f-b868-841dc16bdc4b"
      },
      "execution_count": null,
      "outputs": [
        {
          "output_type": "execute_result",
          "data": {
            "text/plain": [
              "3"
            ]
          },
          "metadata": {},
          "execution_count": 49
        }
      ]
    },
    {
      "cell_type": "code",
      "source": [
        "False & False "
      ],
      "metadata": {
        "colab": {
          "base_uri": "https://localhost:8080/"
        },
        "id": "2-kc7SImh_-x",
        "outputId": "75ddcb07-9309-4ade-919e-4f1b62bed265"
      },
      "execution_count": null,
      "outputs": [
        {
          "output_type": "execute_result",
          "data": {
            "text/plain": [
              "False"
            ]
          },
          "metadata": {},
          "execution_count": 50
        }
      ]
    },
    {
      "cell_type": "code",
      "source": [
        "False & True"
      ],
      "metadata": {
        "colab": {
          "base_uri": "https://localhost:8080/"
        },
        "id": "4VIdGubfiQFl",
        "outputId": "e1f5b946-7818-42e0-c466-0f34d6b11d7a"
      },
      "execution_count": null,
      "outputs": [
        {
          "output_type": "execute_result",
          "data": {
            "text/plain": [
              "False"
            ]
          },
          "metadata": {},
          "execution_count": 51
        }
      ]
    },
    {
      "cell_type": "code",
      "source": [
        "False | True"
      ],
      "metadata": {
        "colab": {
          "base_uri": "https://localhost:8080/"
        },
        "id": "AER1CLSkiZrJ",
        "outputId": "5280883f-dc2b-4a52-c036-d53b96bd369c"
      },
      "execution_count": null,
      "outputs": [
        {
          "output_type": "execute_result",
          "data": {
            "text/plain": [
              "True"
            ]
          },
          "metadata": {},
          "execution_count": 52
        }
      ]
    },
    {
      "cell_type": "markdown",
      "source": [
        "#String Operation"
      ],
      "metadata": {
        "id": "WFLySG1tilTM"
      }
    },
    {
      "cell_type": "code",
      "source": [
        "st_test1 = 'Department of Statistics, '\n",
        "st_test2 = 'Faculty of Science'"
      ],
      "metadata": {
        "id": "7OvXL1DmiqYB"
      },
      "execution_count": 1,
      "outputs": []
    },
    {
      "cell_type": "code",
      "source": [
        "print(st_test1+st_test2)"
      ],
      "metadata": {
        "id": "C5Qr8bl301He",
        "outputId": "8e31920e-0cfe-47ba-e433-2f073b18ee91",
        "colab": {
          "base_uri": "https://localhost:8080/"
        }
      },
      "execution_count": 2,
      "outputs": [
        {
          "output_type": "stream",
          "name": "stdout",
          "text": [
            "Department of Statistics, Faculty of Science\n"
          ]
        }
      ]
    },
    {
      "cell_type": "code",
      "source": [
        "print(10*'t')"
      ],
      "metadata": {
        "id": "tp6OVfgs0-iM",
        "outputId": "123e0ed1-3ac4-438a-b4c5-be79f9eedeaf",
        "colab": {
          "base_uri": "https://localhost:8080/"
        }
      },
      "execution_count": 4,
      "outputs": [
        {
          "output_type": "stream",
          "name": "stdout",
          "text": [
            "tttttttttt\n"
          ]
        }
      ]
    },
    {
      "cell_type": "code",
      "source": [
        "print(3*st_test1) #ทำซ้ำประโยค 3 ครั้ง"
      ],
      "metadata": {
        "id": "AeiTHp8g1j_c",
        "outputId": "9f236069-6b18-4146-87ae-f85e265e6c8c",
        "colab": {
          "base_uri": "https://localhost:8080/"
        }
      },
      "execution_count": 5,
      "outputs": [
        {
          "output_type": "stream",
          "name": "stdout",
          "text": [
            "Department of Statistics, Department of Statistics, Department of Statistics, \n"
          ]
        }
      ]
    },
    {
      "cell_type": "code",
      "source": [
        ""
      ],
      "metadata": {
        "id": "R8BjoK7_1ol3"
      },
      "execution_count": null,
      "outputs": []
    },
    {
      "cell_type": "markdown",
      "source": [
        "###```replace()``` แทนที่ string"
      ],
      "metadata": {
        "id": "7NU6wMTV14p1"
      }
    },
    {
      "cell_type": "code",
      "source": [
        "st_test1.replace('e','  ')"
      ],
      "metadata": {
        "id": "JBp4l24T2Aai",
        "outputId": "e4581d80-c52e-466e-ce15-1274d839a1d5",
        "colab": {
          "base_uri": "https://localhost:8080/",
          "height": 34
        }
      },
      "execution_count": 6,
      "outputs": [
        {
          "output_type": "execute_result",
          "data": {
            "application/vnd.google.colaboratory.intrinsic+json": {
              "type": "string"
            },
            "text/plain": [
              "'D partm nt of Statistics, '"
            ]
          },
          "metadata": {},
          "execution_count": 6
        }
      ]
    },
    {
      "cell_type": "code",
      "source": [
        "st_test1.replace('e',' ')"
      ],
      "metadata": {
        "id": "BAi0MpSP27pM",
        "outputId": "7e730a7c-fdcd-4c33-c034-bd184d2fec9f",
        "colab": {
          "base_uri": "https://localhost:8080/",
          "height": 34
        }
      },
      "execution_count": 8,
      "outputs": [
        {
          "output_type": "execute_result",
          "data": {
            "application/vnd.google.colaboratory.intrinsic+json": {
              "type": "string"
            },
            "text/plain": [
              "'D partm nt of Statistics, '"
            ]
          },
          "metadata": {},
          "execution_count": 8
        }
      ]
    },
    {
      "cell_type": "code",
      "source": [
        "st_test1"
      ],
      "metadata": {
        "id": "7s5hgFRL3Os7",
        "outputId": "fe6c228f-ff95-4015-fb03-cfd5f3a2d08f",
        "colab": {
          "base_uri": "https://localhost:8080/",
          "height": 34
        }
      },
      "execution_count": 9,
      "outputs": [
        {
          "output_type": "execute_result",
          "data": {
            "application/vnd.google.colaboratory.intrinsic+json": {
              "type": "string"
            },
            "text/plain": [
              "'Department of Statistics, '"
            ]
          },
          "metadata": {},
          "execution_count": 9
        }
      ]
    },
    {
      "cell_type": "code",
      "source": [
        "'Department of Statistics, ' .replace('a','x') # สังเกตุว่า x จะเข้าไปแทนที่ a"
      ],
      "metadata": {
        "id": "_SaONvnV3UHM",
        "outputId": "66c0f451-0d33-44d6-f4f2-f6b7d7f1dc3c",
        "colab": {
          "base_uri": "https://localhost:8080/",
          "height": 34
        }
      },
      "execution_count": 10,
      "outputs": [
        {
          "output_type": "execute_result",
          "data": {
            "application/vnd.google.colaboratory.intrinsic+json": {
              "type": "string"
            },
            "text/plain": [
              "'Depxrtment of Stxtistics, '"
            ]
          },
          "metadata": {},
          "execution_count": 10
        }
      ]
    },
    {
      "cell_type": "code",
      "source": [
        ""
      ],
      "metadata": {
        "id": "Xto9snpR3eQc"
      },
      "execution_count": null,
      "outputs": []
    },
    {
      "cell_type": "markdown",
      "source": [
        "### ```split()``` แยกstring"
      ],
      "metadata": {
        "id": "XWkpX72a31Fx"
      }
    },
    {
      "cell_type": "code",
      "source": [
        "'a b c s e f g'.split()"
      ],
      "metadata": {
        "id": "t6Tzpjm44AEm",
        "outputId": "56cea931-c343-4c51-d551-947f8e314483",
        "colab": {
          "base_uri": "https://localhost:8080/"
        }
      },
      "execution_count": 11,
      "outputs": [
        {
          "output_type": "execute_result",
          "data": {
            "text/plain": [
              "['a', 'b', 'c', 's', 'e', 'f', 'g']"
            ]
          },
          "metadata": {},
          "execution_count": 11
        }
      ]
    },
    {
      "cell_type": "code",
      "source": [
        "'a,b/c,d e/f g'.split('/')"
      ],
      "metadata": {
        "id": "vQK0tQ4N4PTU",
        "outputId": "c6622002-82c2-4264-9886-ccfb14ac1fb1",
        "colab": {
          "base_uri": "https://localhost:8080/"
        }
      },
      "execution_count": 12,
      "outputs": [
        {
          "output_type": "execute_result",
          "data": {
            "text/plain": [
              "['a,b', 'c,d e', 'f g']"
            ]
          },
          "metadata": {},
          "execution_count": 12
        }
      ]
    }
  ]
}